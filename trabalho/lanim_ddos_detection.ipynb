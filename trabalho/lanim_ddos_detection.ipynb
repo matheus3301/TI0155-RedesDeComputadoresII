{
 "cells": [
  {
   "cell_type": "code",
   "execution_count": 2,
   "metadata": {},
   "outputs": [
    {
     "name": "stdout",
     "output_type": "stream",
     "text": [
      "WARNING:tensorflow:From c:\\Users\\Matheus\\Desktop\\REDES II - 3\\.env\\lib\\site-packages\\keras\\src\\losses.py:2976: The name tf.losses.sparse_softmax_cross_entropy is deprecated. Please use tf.compat.v1.losses.sparse_softmax_cross_entropy instead.\n",
      "\n"
     ]
    }
   ],
   "source": [
    "import pandas as pd\n",
    "import numpy as np\n",
    "import matplotlib.pyplot as plt\n",
    "import pickle\n",
    "import os\n",
    "\n",
    "from sklearn.model_selection import train_test_split\n",
    "from sklearn.preprocessing import StandardScaler\n",
    "from sklearn.metrics import accuracy_score, classification_report, confusion_matrix, ConfusionMatrixDisplay, roc_curve, auc\n",
    "\n",
    "from keras.models import Sequential, load_model\n",
    "from keras.layers import Dense, LSTM, Bidirectional\n",
    "from keras.utils import plot_model\n",
    "\n",
    "from sklearn.svm import SVC\n",
    "from sklearn.neighbors import KNeighborsClassifier, NearestCentroid\n",
    "from xgboost import XGBClassifier\n",
    "from sklearn.ensemble import RandomForestClassifier\n",
    "\n",
    "WINDOW_SIZE = 25"
   ]
  },
  {
   "cell_type": "code",
   "execution_count": 36,
   "metadata": {},
   "outputs": [
    {
     "name": "stdout",
     "output_type": "stream",
     "text": [
      "330\n",
      "330\n",
      "660\n",
      "660\n"
     ]
    }
   ],
   "source": [
    "X_attack = np.load(\"data/lanim_attack.npy\")\n",
    "X_normal = np.load(\"data/lanim_normal.npy\")\n",
    "\n",
    "X_attack = X_attack[0:330]\n",
    "\n",
    "print(len(X_attack))\n",
    "print(len(X_normal))\n",
    "\n",
    "y_attack = np.zeros((len(X_attack),1))\n",
    "y_normal = np.ones((len(X_normal),1))\n",
    "\n",
    "X = np.concatenate((X_attack, X_normal))\n",
    "y = np.concatenate((y_attack, y_normal))\n",
    "\n",
    "print(len(X))\n",
    "print(len(y))\n",
    "\n",
    "scalar = StandardScaler(copy=True, with_mean=True, with_std=True)\n",
    "scalar.fit(X)\n",
    "X = scalar.transform(X)"
   ]
  },
  {
   "cell_type": "code",
   "execution_count": 37,
   "metadata": {},
   "outputs": [],
   "source": [
    "X_train, X_test, y_train, y_test = train_test_split(X, y, shuffle=True, test_size=0.1)\n"
   ]
  },
  {
   "cell_type": "code",
   "execution_count": 20,
   "metadata": {},
   "outputs": [
    {
     "name": "stderr",
     "output_type": "stream",
     "text": [
      "c:\\Users\\Matheus\\Desktop\\REDES II - 3\\.env\\lib\\site-packages\\sklearn\\neighbors\\_classification.py:233: DataConversionWarning: A column-vector y was passed when a 1d array was expected. Please change the shape of y to (n_samples,), for example using ravel().\n",
      "  return self._fit(X, y)\n",
      "c:\\Users\\Matheus\\Desktop\\REDES II - 3\\.env\\lib\\site-packages\\sklearn\\base.py:1152: DataConversionWarning: A column-vector y was passed when a 1d array was expected. Please change the shape of y to (n_samples,), for example using ravel().\n",
      "  return fit_method(estimator, *args, **kwargs)\n"
     ]
    },
    {
     "name": "stdout",
     "output_type": "stream",
     "text": [
      "              precision    recall  f1-score   support\n",
      "\n",
      "         0.0       0.80      1.00      0.89        36\n",
      "         1.0       1.00      0.65      0.79        26\n",
      "\n",
      "    accuracy                           0.85        62\n",
      "   macro avg       0.90      0.83      0.84        62\n",
      "weighted avg       0.88      0.85      0.85        62\n",
      "\n",
      "              precision    recall  f1-score   support\n",
      "\n",
      "         0.0       1.00      1.00      1.00        36\n",
      "         1.0       1.00      1.00      1.00        26\n",
      "\n",
      "    accuracy                           1.00        62\n",
      "   macro avg       1.00      1.00      1.00        62\n",
      "weighted avg       1.00      1.00      1.00        62\n",
      "\n",
      "              precision    recall  f1-score   support\n",
      "\n",
      "         0.0       1.00      1.00      1.00        36\n",
      "         1.0       1.00      1.00      1.00        26\n",
      "\n",
      "    accuracy                           1.00        62\n",
      "   macro avg       1.00      1.00      1.00        62\n",
      "weighted avg       1.00      1.00      1.00        62\n",
      "\n"
     ]
    }
   ],
   "source": [
    "classifiers = [\n",
    "                (\"KNN\", KNeighborsClassifier(n_neighbors=5)),\n",
    "                (\"XGBoost\", XGBClassifier()),\n",
    "                (\"Random Forest\", RandomForestClassifier()),\n",
    "              ]\n",
    "\n",
    "for name, clf in classifiers:\n",
    "    clf.fit(X_train, y_train)\n",
    "\n",
    "    predictions = clf.predict(X_test)\n",
    "    print(classification_report(y_test, predictions))"
   ]
  },
  {
   "cell_type": "code",
   "execution_count": 38,
   "metadata": {},
   "outputs": [
    {
     "name": "stdout",
     "output_type": "stream",
     "text": [
      "Epoch 1/20\n",
      "17/17 [==============================] - 5s 57ms/step - loss: 2.3584 - accuracy: 0.9457 - val_loss: 1.8444 - val_accuracy: 1.0000\n",
      "Epoch 2/20\n",
      "17/17 [==============================] - 0s 10ms/step - loss: 1.5758 - accuracy: 1.0000 - val_loss: 1.3149 - val_accuracy: 1.0000\n",
      "Epoch 3/20\n",
      "17/17 [==============================] - 0s 10ms/step - loss: 1.1293 - accuracy: 1.0000 - val_loss: 0.9349 - val_accuracy: 1.0000\n",
      "Epoch 4/20\n",
      "17/17 [==============================] - 0s 10ms/step - loss: 0.7997 - accuracy: 1.0000 - val_loss: 0.6596 - val_accuracy: 1.0000\n",
      "Epoch 5/20\n",
      "17/17 [==============================] - 0s 11ms/step - loss: 0.5633 - accuracy: 1.0000 - val_loss: 0.4638 - val_accuracy: 1.0000\n",
      "Epoch 6/20\n",
      "17/17 [==============================] - 0s 10ms/step - loss: 0.3963 - accuracy: 1.0000 - val_loss: 0.3268 - val_accuracy: 1.0000\n",
      "Epoch 7/20\n",
      "17/17 [==============================] - 0s 10ms/step - loss: 0.2800 - accuracy: 1.0000 - val_loss: 0.2320 - val_accuracy: 1.0000\n",
      "Epoch 8/20\n",
      "17/17 [==============================] - 0s 10ms/step - loss: 0.1999 - accuracy: 1.0000 - val_loss: 0.1670 - val_accuracy: 1.0000\n",
      "Epoch 9/20\n",
      "17/17 [==============================] - 0s 9ms/step - loss: 0.1452 - accuracy: 1.0000 - val_loss: 0.1229 - val_accuracy: 1.0000\n",
      "Epoch 10/20\n",
      "17/17 [==============================] - 0s 10ms/step - loss: 0.1081 - accuracy: 1.0000 - val_loss: 0.0930 - val_accuracy: 1.0000\n",
      "Epoch 11/20\n",
      "17/17 [==============================] - 0s 10ms/step - loss: 0.0831 - accuracy: 1.0000 - val_loss: 0.0729 - val_accuracy: 1.0000\n",
      "Epoch 12/20\n",
      "17/17 [==============================] - 0s 10ms/step - loss: 0.0662 - accuracy: 1.0000 - val_loss: 0.0594 - val_accuracy: 1.0000\n",
      "Epoch 13/20\n",
      "17/17 [==============================] - 0s 10ms/step - loss: 0.0548 - accuracy: 1.0000 - val_loss: 0.0502 - val_accuracy: 1.0000\n",
      "Epoch 14/20\n",
      "17/17 [==============================] - 0s 10ms/step - loss: 0.0471 - accuracy: 1.0000 - val_loss: 0.0439 - val_accuracy: 1.0000\n",
      "Epoch 15/20\n",
      "17/17 [==============================] - 0s 10ms/step - loss: 0.0418 - accuracy: 1.0000 - val_loss: 0.0396 - val_accuracy: 1.0000\n",
      "Epoch 16/20\n",
      "17/17 [==============================] - 0s 10ms/step - loss: 0.0381 - accuracy: 1.0000 - val_loss: 0.0365 - val_accuracy: 1.0000\n",
      "Epoch 17/20\n",
      "17/17 [==============================] - 0s 10ms/step - loss: 0.0355 - accuracy: 1.0000 - val_loss: 0.0343 - val_accuracy: 1.0000\n",
      "Epoch 18/20\n",
      "17/17 [==============================] - 0s 10ms/step - loss: 0.0336 - accuracy: 1.0000 - val_loss: 0.0327 - val_accuracy: 1.0000\n",
      "Epoch 19/20\n",
      "17/17 [==============================] - 0s 11ms/step - loss: 0.0321 - accuracy: 1.0000 - val_loss: 0.0315 - val_accuracy: 1.0000\n",
      "Epoch 20/20\n",
      "17/17 [==============================] - 0s 10ms/step - loss: 0.0311 - accuracy: 1.0000 - val_loss: 0.0306 - val_accuracy: 1.0000\n"
     ]
    }
   ],
   "source": [
    "X_train = X_train.reshape((len(X_train),25,26))\n",
    "\n",
    "def create_baseline():\n",
    "    model = Sequential()\n",
    "    \n",
    "    model.add(Bidirectional(LSTM(64, activation='tanh', kernel_regularizer='l2')))\n",
    "    model.add(Dense(128, activation = 'relu', kernel_regularizer='l2'))\n",
    "    model.add(Dense(1, activation = 'sigmoid', kernel_regularizer='l2'))\n",
    "    \n",
    "    model.compile(loss = 'binary_crossentropy', optimizer = 'adam', metrics = ['accuracy'])\n",
    "    \n",
    "    return model\n",
    "\n",
    "model = create_baseline()\n",
    "\n",
    "history = model.fit(X_train, y_train, epochs=20, validation_split=0.1, verbose = 1)\n"
   ]
  },
  {
   "cell_type": "code",
   "execution_count": 39,
   "metadata": {},
   "outputs": [
    {
     "name": "stdout",
     "output_type": "stream",
     "text": [
      "3/3 [==============================] - 1s 3ms/step\n",
      "              precision    recall  f1-score   support\n",
      "\n",
      "         0.0       1.00      1.00      1.00        33\n",
      "         1.0       1.00      1.00      1.00        33\n",
      "\n",
      "    accuracy                           1.00        66\n",
      "   macro avg       1.00      1.00      1.00        66\n",
      "weighted avg       1.00      1.00      1.00        66\n",
      "\n"
     ]
    }
   ],
   "source": [
    "predictions = model.predict(X_test.reshape((len(X_test),25,26)))\n",
    "\n",
    "predictions = predictions.flatten().round()\n",
    "\n",
    "print(classification_report(y_test, predictions))"
   ]
  },
  {
   "cell_type": "code",
   "execution_count": 40,
   "metadata": {},
   "outputs": [
    {
     "name": "stderr",
     "output_type": "stream",
     "text": [
      "c:\\Users\\Matheus\\Desktop\\REDES II - 3\\.env\\lib\\site-packages\\keras\\src\\engine\\training.py:3103: UserWarning: You are saving your model as an HDF5 file via `model.save()`. This file format is considered legacy. We recommend using instead the native Keras format, e.g. `model.save('my_model.keras')`.\n",
      "  saving_api.save_model(\n"
     ]
    }
   ],
   "source": [
    "model.save(\"models/LANIM-330.h5\")"
   ]
  }
 ],
 "metadata": {
  "kernelspec": {
   "display_name": ".env",
   "language": "python",
   "name": "python3"
  },
  "language_info": {
   "codemirror_mode": {
    "name": "ipython",
    "version": 3
   },
   "file_extension": ".py",
   "mimetype": "text/x-python",
   "name": "python",
   "nbconvert_exporter": "python",
   "pygments_lexer": "ipython3",
   "version": "3.10.11"
  },
  "orig_nbformat": 4
 },
 "nbformat": 4,
 "nbformat_minor": 2
}
